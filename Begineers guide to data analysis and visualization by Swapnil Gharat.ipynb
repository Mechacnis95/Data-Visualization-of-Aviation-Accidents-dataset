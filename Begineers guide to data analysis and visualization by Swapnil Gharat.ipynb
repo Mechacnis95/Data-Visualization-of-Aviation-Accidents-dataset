{
 "cells": [
  {
   "cell_type": "markdown",
   "metadata": {
    "_cell_guid": "daef414e-5d5a-0778-562a-8bf29a0d5500"
   },
   "source": [
    "# STEP BY STEP BEGINEERS GIUDE FOR DATA ANALYSIS OF AVIATION ACCIDENTS DATA by SWAPNIL GHARAT "
   ]
  },
  {
   "cell_type": "markdown",
   "metadata": {},
   "source": [
    "This code contains some basic intructions for extreme begineers\n",
    "Note:Extreme begineers please read the instructions carefully I have added some baic examples of the functions\n",
    "\n",
    "Note: Pros please neglect the isntructions and suggest any improvements"
   ]
  },
  {
   "cell_type": "code",
   "execution_count": 1,
   "metadata": {
    "_cell_guid": "bc6b29cd-10a0-2bd6-1f0f-ebfd25d75858"
   },
   "outputs": [],
   "source": [
    "##Importing the packages\n",
    "import numpy as np \n",
    "import pandas as pd \n",
    "import matplotlib.pyplot as plt\n",
    "%matplotlib inline\n",
    "from matplotlib import cm\n",
    "from sklearn.cluster import KMeans"
   ]
  },
  {
   "cell_type": "markdown",
   "metadata": {
    "_cell_guid": "8043a29b-0f6e-64ee-f36a-d47d25fc20c7"
   },
   "source": [
    "Importing data\n",
    "Select your own path from your database.\n",
    "\n",
    "\n",
    "Note: Some of you might get this Error ('utf-8' codec can't decode byte 0xd3 in position 8: invalid continuation byte)\n",
    "\n",
    "Solution: add, engine='python' after the path\n"
   ]
  },
  {
   "cell_type": "code",
   "execution_count": 2,
   "metadata": {
    "collapsed": true
   },
   "outputs": [],
   "source": [
    "train=pd.read_csv('/Users/swapnilgharat/Desktop/KAGGLE PROJECTS/CONSOLE GAMES/Aviation Dataset/AviationData.csv', engine='python')"
   ]
  },
  {
   "cell_type": "markdown",
   "metadata": {},
   "source": [
    "Take a sneak peak at the data, understanding the data."
   ]
  },
  {
   "cell_type": "code",
   "execution_count": 3,
   "metadata": {},
   "outputs": [
    {
     "data": {
      "text/html": [
       "<div>\n",
       "<style>\n",
       "    .dataframe thead tr:only-child th {\n",
       "        text-align: right;\n",
       "    }\n",
       "\n",
       "    .dataframe thead th {\n",
       "        text-align: left;\n",
       "    }\n",
       "\n",
       "    .dataframe tbody tr th {\n",
       "        vertical-align: top;\n",
       "    }\n",
       "</style>\n",
       "<table border=\"1\" class=\"dataframe\">\n",
       "  <thead>\n",
       "    <tr style=\"text-align: right;\">\n",
       "      <th></th>\n",
       "      <th>Event.Id</th>\n",
       "      <th>Investigation.Type</th>\n",
       "      <th>Accident.Number</th>\n",
       "      <th>Event.Date</th>\n",
       "      <th>Location</th>\n",
       "      <th>Country</th>\n",
       "      <th>Latitude</th>\n",
       "      <th>Longitude</th>\n",
       "      <th>Airport.Code</th>\n",
       "      <th>Airport.Name</th>\n",
       "      <th>...</th>\n",
       "      <th>Purpose.of.Flight</th>\n",
       "      <th>Air.Carrier</th>\n",
       "      <th>Total.Fatal.Injuries</th>\n",
       "      <th>Total.Serious.Injuries</th>\n",
       "      <th>Total.Minor.Injuries</th>\n",
       "      <th>Total.Uninjured</th>\n",
       "      <th>Weather.Condition</th>\n",
       "      <th>Broad.Phase.of.Flight</th>\n",
       "      <th>Report.Status</th>\n",
       "      <th>Publication.Date</th>\n",
       "    </tr>\n",
       "  </thead>\n",
       "  <tbody>\n",
       "    <tr>\n",
       "      <th>0</th>\n",
       "      <td>20181217X10943</td>\n",
       "      <td>Accident</td>\n",
       "      <td>GAA19CA098</td>\n",
       "      <td>2018-12-16</td>\n",
       "      <td>Grangville, ID</td>\n",
       "      <td>United States</td>\n",
       "      <td>45.583611</td>\n",
       "      <td>-115.681667</td>\n",
       "      <td>PVT</td>\n",
       "      <td>NaN</td>\n",
       "      <td>...</td>\n",
       "      <td>Positioning</td>\n",
       "      <td>NaN</td>\n",
       "      <td>NaN</td>\n",
       "      <td>NaN</td>\n",
       "      <td>NaN</td>\n",
       "      <td>1.0</td>\n",
       "      <td>NaN</td>\n",
       "      <td>NaN</td>\n",
       "      <td>Preliminary</td>\n",
       "      <td>2018-12-18</td>\n",
       "    </tr>\n",
       "    <tr>\n",
       "      <th>1</th>\n",
       "      <td>20181217X25746</td>\n",
       "      <td>Accident</td>\n",
       "      <td>GAA19CA097</td>\n",
       "      <td>2018-12-15</td>\n",
       "      <td>MORIARTY, NM</td>\n",
       "      <td>United States</td>\n",
       "      <td>34.970000</td>\n",
       "      <td>-106.000000</td>\n",
       "      <td>NaN</td>\n",
       "      <td>MORIARTY MUNI</td>\n",
       "      <td>...</td>\n",
       "      <td>Personal</td>\n",
       "      <td>NaN</td>\n",
       "      <td>NaN</td>\n",
       "      <td>NaN</td>\n",
       "      <td>NaN</td>\n",
       "      <td>1.0</td>\n",
       "      <td>VMC</td>\n",
       "      <td>NaN</td>\n",
       "      <td>Preliminary</td>\n",
       "      <td>2018-12-20</td>\n",
       "    </tr>\n",
       "    <tr>\n",
       "      <th>2</th>\n",
       "      <td>20181213X41114</td>\n",
       "      <td>Accident</td>\n",
       "      <td>ERA19LA065</td>\n",
       "      <td>2018-12-13</td>\n",
       "      <td>Punta Gorda, FL</td>\n",
       "      <td>United States</td>\n",
       "      <td>26.925278</td>\n",
       "      <td>-82.001111</td>\n",
       "      <td>PGD</td>\n",
       "      <td>Punta Gorda</td>\n",
       "      <td>...</td>\n",
       "      <td>Personal</td>\n",
       "      <td>NaN</td>\n",
       "      <td>NaN</td>\n",
       "      <td>NaN</td>\n",
       "      <td>1.0</td>\n",
       "      <td>NaN</td>\n",
       "      <td>VMC</td>\n",
       "      <td>APPROACH</td>\n",
       "      <td>Preliminary</td>\n",
       "      <td>2018-12-21</td>\n",
       "    </tr>\n",
       "    <tr>\n",
       "      <th>3</th>\n",
       "      <td>20181213X45528</td>\n",
       "      <td>Accident</td>\n",
       "      <td>CEN19FA044</td>\n",
       "      <td>2018-12-13</td>\n",
       "      <td>Valparaiso, IN</td>\n",
       "      <td>United States</td>\n",
       "      <td>41.451667</td>\n",
       "      <td>-87.004444</td>\n",
       "      <td>VPZ</td>\n",
       "      <td>Porter County Rgnl</td>\n",
       "      <td>...</td>\n",
       "      <td>Personal</td>\n",
       "      <td>NaN</td>\n",
       "      <td>1.0</td>\n",
       "      <td>NaN</td>\n",
       "      <td>NaN</td>\n",
       "      <td>NaN</td>\n",
       "      <td>VMC</td>\n",
       "      <td>TAKEOFF</td>\n",
       "      <td>Preliminary</td>\n",
       "      <td>2018-12-19</td>\n",
       "    </tr>\n",
       "    <tr>\n",
       "      <th>4</th>\n",
       "      <td>20181214X90303</td>\n",
       "      <td>Accident</td>\n",
       "      <td>GAA19CA096</td>\n",
       "      <td>2018-12-11</td>\n",
       "      <td>Hartford, WI</td>\n",
       "      <td>United States</td>\n",
       "      <td>43.330278</td>\n",
       "      <td>-88.326111</td>\n",
       "      <td>HXF</td>\n",
       "      <td>Hartford Muni</td>\n",
       "      <td>...</td>\n",
       "      <td>Personal</td>\n",
       "      <td>NaN</td>\n",
       "      <td>NaN</td>\n",
       "      <td>NaN</td>\n",
       "      <td>NaN</td>\n",
       "      <td>1.0</td>\n",
       "      <td>VMC</td>\n",
       "      <td>NaN</td>\n",
       "      <td>Preliminary</td>\n",
       "      <td>2018-12-18</td>\n",
       "    </tr>\n",
       "  </tbody>\n",
       "</table>\n",
       "<p>5 rows × 31 columns</p>\n",
       "</div>"
      ],
      "text/plain": [
       "         Event.Id Investigation.Type Accident.Number  Event.Date  \\\n",
       "0  20181217X10943           Accident      GAA19CA098  2018-12-16   \n",
       "1  20181217X25746           Accident      GAA19CA097  2018-12-15   \n",
       "2  20181213X41114           Accident      ERA19LA065  2018-12-13   \n",
       "3  20181213X45528           Accident      CEN19FA044  2018-12-13   \n",
       "4  20181214X90303           Accident      GAA19CA096  2018-12-11   \n",
       "\n",
       "          Location        Country   Latitude   Longitude Airport.Code  \\\n",
       "0   Grangville, ID  United States  45.583611 -115.681667          PVT   \n",
       "1     MORIARTY, NM  United States  34.970000 -106.000000          NaN   \n",
       "2  Punta Gorda, FL  United States  26.925278  -82.001111          PGD   \n",
       "3   Valparaiso, IN  United States  41.451667  -87.004444          VPZ   \n",
       "4     Hartford, WI  United States  43.330278  -88.326111          HXF   \n",
       "\n",
       "         Airport.Name       ...        Purpose.of.Flight Air.Carrier  \\\n",
       "0                 NaN       ...              Positioning         NaN   \n",
       "1       MORIARTY MUNI       ...                 Personal         NaN   \n",
       "2         Punta Gorda       ...                 Personal         NaN   \n",
       "3  Porter County Rgnl       ...                 Personal         NaN   \n",
       "4       Hartford Muni       ...                 Personal         NaN   \n",
       "\n",
       "  Total.Fatal.Injuries Total.Serious.Injuries Total.Minor.Injuries  \\\n",
       "0                  NaN                    NaN                  NaN   \n",
       "1                  NaN                    NaN                  NaN   \n",
       "2                  NaN                    NaN                  1.0   \n",
       "3                  1.0                    NaN                  NaN   \n",
       "4                  NaN                    NaN                  NaN   \n",
       "\n",
       "  Total.Uninjured Weather.Condition  Broad.Phase.of.Flight Report.Status  \\\n",
       "0             1.0               NaN                    NaN   Preliminary   \n",
       "1             1.0               VMC                    NaN   Preliminary   \n",
       "2             NaN               VMC               APPROACH   Preliminary   \n",
       "3             NaN               VMC                TAKEOFF   Preliminary   \n",
       "4             1.0               VMC                    NaN   Preliminary   \n",
       "\n",
       "  Publication.Date  \n",
       "0       2018-12-18  \n",
       "1       2018-12-20  \n",
       "2       2018-12-21  \n",
       "3       2018-12-19  \n",
       "4       2018-12-18  \n",
       "\n",
       "[5 rows x 31 columns]"
      ]
     },
     "execution_count": 3,
     "metadata": {},
     "output_type": "execute_result"
    }
   ],
   "source": [
    "train.head()"
   ]
  },
  {
   "cell_type": "code",
   "execution_count": 4,
   "metadata": {},
   "outputs": [
    {
     "data": {
      "text/html": [
       "<div>\n",
       "<style>\n",
       "    .dataframe thead tr:only-child th {\n",
       "        text-align: right;\n",
       "    }\n",
       "\n",
       "    .dataframe thead th {\n",
       "        text-align: left;\n",
       "    }\n",
       "\n",
       "    .dataframe tbody tr th {\n",
       "        vertical-align: top;\n",
       "    }\n",
       "</style>\n",
       "<table border=\"1\" class=\"dataframe\">\n",
       "  <thead>\n",
       "    <tr style=\"text-align: right;\">\n",
       "      <th></th>\n",
       "      <th>Event.Id</th>\n",
       "      <th>Investigation.Type</th>\n",
       "      <th>Accident.Number</th>\n",
       "      <th>Event.Date</th>\n",
       "      <th>Location</th>\n",
       "      <th>Country</th>\n",
       "      <th>Latitude</th>\n",
       "      <th>Longitude</th>\n",
       "      <th>Airport.Code</th>\n",
       "      <th>Airport.Name</th>\n",
       "      <th>...</th>\n",
       "      <th>Purpose.of.Flight</th>\n",
       "      <th>Air.Carrier</th>\n",
       "      <th>Total.Fatal.Injuries</th>\n",
       "      <th>Total.Serious.Injuries</th>\n",
       "      <th>Total.Minor.Injuries</th>\n",
       "      <th>Total.Uninjured</th>\n",
       "      <th>Weather.Condition</th>\n",
       "      <th>Broad.Phase.of.Flight</th>\n",
       "      <th>Report.Status</th>\n",
       "      <th>Publication.Date</th>\n",
       "    </tr>\n",
       "  </thead>\n",
       "  <tbody>\n",
       "    <tr>\n",
       "      <th>82630</th>\n",
       "      <td>20041105X01764</td>\n",
       "      <td>Accident</td>\n",
       "      <td>CHI79FA064</td>\n",
       "      <td>1979-08-02</td>\n",
       "      <td>Canton, OH</td>\n",
       "      <td>United States</td>\n",
       "      <td>NaN</td>\n",
       "      <td>NaN</td>\n",
       "      <td>NaN</td>\n",
       "      <td>NaN</td>\n",
       "      <td>...</td>\n",
       "      <td>Personal</td>\n",
       "      <td>NaN</td>\n",
       "      <td>1.0</td>\n",
       "      <td>2.0</td>\n",
       "      <td>NaN</td>\n",
       "      <td>NaN</td>\n",
       "      <td>VMC</td>\n",
       "      <td>APPROACH</td>\n",
       "      <td>Probable Cause</td>\n",
       "      <td>1980-04-16</td>\n",
       "    </tr>\n",
       "    <tr>\n",
       "      <th>82631</th>\n",
       "      <td>20001218X45448</td>\n",
       "      <td>Accident</td>\n",
       "      <td>LAX96LA321</td>\n",
       "      <td>1977-06-19</td>\n",
       "      <td>EUREKA, CA</td>\n",
       "      <td>United States</td>\n",
       "      <td>NaN</td>\n",
       "      <td>NaN</td>\n",
       "      <td>NaN</td>\n",
       "      <td>NaN</td>\n",
       "      <td>...</td>\n",
       "      <td>Personal</td>\n",
       "      <td>NaN</td>\n",
       "      <td>2.0</td>\n",
       "      <td>0.0</td>\n",
       "      <td>0.0</td>\n",
       "      <td>0.0</td>\n",
       "      <td>IMC</td>\n",
       "      <td>CRUISE</td>\n",
       "      <td>Probable Cause</td>\n",
       "      <td>2000-09-12</td>\n",
       "    </tr>\n",
       "    <tr>\n",
       "      <th>82632</th>\n",
       "      <td>20061025X01555</td>\n",
       "      <td>Accident</td>\n",
       "      <td>NYC07LA005</td>\n",
       "      <td>1974-08-30</td>\n",
       "      <td>Saltville, VA</td>\n",
       "      <td>United States</td>\n",
       "      <td>36.922223</td>\n",
       "      <td>-81.878056</td>\n",
       "      <td>NaN</td>\n",
       "      <td>NaN</td>\n",
       "      <td>...</td>\n",
       "      <td>Personal</td>\n",
       "      <td>NaN</td>\n",
       "      <td>3.0</td>\n",
       "      <td>NaN</td>\n",
       "      <td>NaN</td>\n",
       "      <td>NaN</td>\n",
       "      <td>IMC</td>\n",
       "      <td>CRUISE</td>\n",
       "      <td>Probable Cause</td>\n",
       "      <td>2007-02-26</td>\n",
       "    </tr>\n",
       "    <tr>\n",
       "      <th>82633</th>\n",
       "      <td>20001218X45447</td>\n",
       "      <td>Accident</td>\n",
       "      <td>LAX94LA336</td>\n",
       "      <td>1962-07-19</td>\n",
       "      <td>BRIDGEPORT, CA</td>\n",
       "      <td>United States</td>\n",
       "      <td>NaN</td>\n",
       "      <td>NaN</td>\n",
       "      <td>NaN</td>\n",
       "      <td>NaN</td>\n",
       "      <td>...</td>\n",
       "      <td>Personal</td>\n",
       "      <td>NaN</td>\n",
       "      <td>4.0</td>\n",
       "      <td>0.0</td>\n",
       "      <td>0.0</td>\n",
       "      <td>0.0</td>\n",
       "      <td>UNK</td>\n",
       "      <td>UNKNOWN</td>\n",
       "      <td>Probable Cause</td>\n",
       "      <td>1996-09-19</td>\n",
       "    </tr>\n",
       "    <tr>\n",
       "      <th>82634</th>\n",
       "      <td>20001218X45444</td>\n",
       "      <td>Accident</td>\n",
       "      <td>SEA87LA080</td>\n",
       "      <td>1948-10-24</td>\n",
       "      <td>MOOSE CREEK, ID</td>\n",
       "      <td>United States</td>\n",
       "      <td>NaN</td>\n",
       "      <td>NaN</td>\n",
       "      <td>NaN</td>\n",
       "      <td>NaN</td>\n",
       "      <td>...</td>\n",
       "      <td>Personal</td>\n",
       "      <td>NaN</td>\n",
       "      <td>2.0</td>\n",
       "      <td>0.0</td>\n",
       "      <td>0.0</td>\n",
       "      <td>0.0</td>\n",
       "      <td>UNK</td>\n",
       "      <td>CRUISE</td>\n",
       "      <td>Probable Cause</td>\n",
       "      <td>NaN</td>\n",
       "    </tr>\n",
       "  </tbody>\n",
       "</table>\n",
       "<p>5 rows × 31 columns</p>\n",
       "</div>"
      ],
      "text/plain": [
       "             Event.Id Investigation.Type Accident.Number  Event.Date  \\\n",
       "82630  20041105X01764           Accident      CHI79FA064  1979-08-02   \n",
       "82631  20001218X45448           Accident      LAX96LA321  1977-06-19   \n",
       "82632  20061025X01555           Accident      NYC07LA005  1974-08-30   \n",
       "82633  20001218X45447           Accident      LAX94LA336  1962-07-19   \n",
       "82634  20001218X45444           Accident      SEA87LA080  1948-10-24   \n",
       "\n",
       "              Location        Country   Latitude  Longitude Airport.Code  \\\n",
       "82630       Canton, OH  United States        NaN        NaN          NaN   \n",
       "82631       EUREKA, CA  United States        NaN        NaN          NaN   \n",
       "82632    Saltville, VA  United States  36.922223 -81.878056          NaN   \n",
       "82633   BRIDGEPORT, CA  United States        NaN        NaN          NaN   \n",
       "82634  MOOSE CREEK, ID  United States        NaN        NaN          NaN   \n",
       "\n",
       "      Airport.Name       ...        Purpose.of.Flight Air.Carrier  \\\n",
       "82630          NaN       ...                 Personal         NaN   \n",
       "82631          NaN       ...                 Personal         NaN   \n",
       "82632          NaN       ...                 Personal         NaN   \n",
       "82633          NaN       ...                 Personal         NaN   \n",
       "82634          NaN       ...                 Personal         NaN   \n",
       "\n",
       "      Total.Fatal.Injuries Total.Serious.Injuries Total.Minor.Injuries  \\\n",
       "82630                  1.0                    2.0                  NaN   \n",
       "82631                  2.0                    0.0                  0.0   \n",
       "82632                  3.0                    NaN                  NaN   \n",
       "82633                  4.0                    0.0                  0.0   \n",
       "82634                  2.0                    0.0                  0.0   \n",
       "\n",
       "      Total.Uninjured Weather.Condition  Broad.Phase.of.Flight  \\\n",
       "82630             NaN               VMC               APPROACH   \n",
       "82631             0.0               IMC                 CRUISE   \n",
       "82632             NaN               IMC                 CRUISE   \n",
       "82633             0.0               UNK                UNKNOWN   \n",
       "82634             0.0               UNK                 CRUISE   \n",
       "\n",
       "        Report.Status Publication.Date  \n",
       "82630  Probable Cause       1980-04-16  \n",
       "82631  Probable Cause       2000-09-12  \n",
       "82632  Probable Cause       2007-02-26  \n",
       "82633  Probable Cause       1996-09-19  \n",
       "82634  Probable Cause              NaN  \n",
       "\n",
       "[5 rows x 31 columns]"
      ]
     },
     "execution_count": 4,
     "metadata": {},
     "output_type": "execute_result"
    }
   ],
   "source": [
    "train.tail()"
   ]
  },
  {
   "cell_type": "markdown",
   "metadata": {
    "_cell_guid": "08dea982-8cab-46e0-fb49-7ae3cdacd096"
   },
   "source": [
    "Check data types of each columns"
   ]
  },
  {
   "cell_type": "code",
   "execution_count": 5,
   "metadata": {},
   "outputs": [
    {
     "data": {
      "text/plain": [
       "Event.Id                   object\n",
       "Investigation.Type         object\n",
       "Accident.Number            object\n",
       "Event.Date                 object\n",
       "Location                   object\n",
       "Country                    object\n",
       "Latitude                  float64\n",
       "Longitude                 float64\n",
       "Airport.Code               object\n",
       "Airport.Name               object\n",
       "Injury.Severity            object\n",
       "Aircraft.Damage            object\n",
       "Aircraft.Category          object\n",
       "Registration.Number        object\n",
       "Make                       object\n",
       "Model                      object\n",
       "Amateur.Built              object\n",
       "Number.of.Engines         float64\n",
       "Engine.Type                object\n",
       "FAR.Description            object\n",
       "Schedule                   object\n",
       "Purpose.of.Flight          object\n",
       "Air.Carrier                object\n",
       "Total.Fatal.Injuries      float64\n",
       "Total.Serious.Injuries    float64\n",
       "Total.Minor.Injuries      float64\n",
       "Total.Uninjured           float64\n",
       "Weather.Condition          object\n",
       "Broad.Phase.of.Flight      object\n",
       "Report.Status              object\n",
       "Publication.Date           object\n",
       "dtype: object"
      ]
     },
     "execution_count": 5,
     "metadata": {},
     "output_type": "execute_result"
    }
   ],
   "source": [
    "train.dtypes\n",
    "##you can observe that Event.Date is not in the right format,hence we need to convert it to date/time format\n",
    "#Check the next step"
   ]
  },
  {
   "cell_type": "code",
   "execution_count": 6,
   "metadata": {
    "collapsed": true
   },
   "outputs": [],
   "source": [
    "train['Event.Date']=pd.to_datetime(train['Event.Date'],format='%Y.%m.%d')"
   ]
  },
  {
   "cell_type": "code",
   "execution_count": 7,
   "metadata": {},
   "outputs": [],
   "source": [
    "##for newbies, if you want to check the month ,year (try using these commands)\n",
    "#train['Event.Date'].dt.month\n",
    "#train['Event.Date'].dt.year"
   ]
  },
  {
   "cell_type": "code",
   "execution_count": 8,
   "metadata": {
    "_cell_guid": "ead9ab39-8d6f-8fae-a335-a4abe4a2b02f",
    "scrolled": true
   },
   "outputs": [],
   "source": [
    "##Converting the numerical columns( to get adequate numeric values ,Errors:'coerce' will convert illegal values as NAN and others as standard numeric) )\n",
    "train['Latitude'] = pd.to_numeric(train.Latitude, errors='coerce')\n",
    "train['Longitude'] = pd.to_numeric(train.Longitude, errors='coerce')\n",
    "train = train.dropna(axis=0, subset=['Latitude', 'Longitude'])"
   ]
  },
  {
   "cell_type": "code",
   "execution_count": 9,
   "metadata": {},
   "outputs": [
    {
     "data": {
      "text/plain": [
       "Event.Id                          object\n",
       "Investigation.Type                object\n",
       "Accident.Number                   object\n",
       "Event.Date                datetime64[ns]\n",
       "Location                          object\n",
       "Country                           object\n",
       "Latitude                         float64\n",
       "Longitude                        float64\n",
       "Airport.Code                      object\n",
       "Airport.Name                      object\n",
       "Injury.Severity                   object\n",
       "Aircraft.Damage                   object\n",
       "Aircraft.Category                 object\n",
       "Registration.Number               object\n",
       "Make                              object\n",
       "Model                             object\n",
       "Amateur.Built                     object\n",
       "Number.of.Engines                float64\n",
       "Engine.Type                       object\n",
       "FAR.Description                   object\n",
       "Schedule                          object\n",
       "Purpose.of.Flight                 object\n",
       "Air.Carrier                       object\n",
       "Total.Fatal.Injuries             float64\n",
       "Total.Serious.Injuries           float64\n",
       "Total.Minor.Injuries             float64\n",
       "Total.Uninjured                  float64\n",
       "Weather.Condition                 object\n",
       "Broad.Phase.of.Flight             object\n",
       "Report.Status                     object\n",
       "Publication.Date                  object\n",
       "dtype: object"
      ]
     },
     "execution_count": 9,
     "metadata": {},
     "output_type": "execute_result"
    }
   ],
   "source": [
    "train.dtypes"
   ]
  },
  {
   "cell_type": "code",
   "execution_count": 10,
   "metadata": {
    "_cell_guid": "38cc5aa0-5ce4-ffcf-53a3-157e0e792ff3"
   },
   "outputs": [
    {
     "name": "stdout",
     "output_type": "stream",
     "text": [
      "Event.Id\n",
      "Investigation.Type\n",
      "Accident.Number\n",
      "Event.Date\n",
      "Location\n",
      "Country\n",
      "Latitude\n",
      "Longitude\n",
      "Airport.Code\n",
      "Airport.Name\n",
      "Injury.Severity\n",
      "Aircraft.Damage\n",
      "Aircraft.Category\n",
      "Registration.Number\n",
      "Make\n",
      "Model\n",
      "Amateur.Built\n",
      "Number.of.Engines\n",
      "Engine.Type\n",
      "FAR.Description\n",
      "Schedule\n",
      "Purpose.of.Flight\n",
      "Air.Carrier\n",
      "Total.Fatal.Injuries\n",
      "Total.Serious.Injuries\n",
      "Total.Minor.Injuries\n",
      "Total.Uninjured\n",
      "Weather.Condition\n",
      "Broad.Phase.of.Flight\n",
      "Report.Status\n",
      "Publication.Date\n"
     ]
    }
   ],
   "source": [
    "##Printing out columns\n",
    "for i in train.columns:\n",
    "    print(i)"
   ]
  },
  {
   "cell_type": "markdown",
   "metadata": {},
   "source": [
    "We need to add a month column for further analysis;\n",
    "Henceforth use map function on the 'Event.Date' Column\n",
    "What is a map function?\n",
    "map() function returns a list of the results after applying the given function to each item of a given iterable (list, tuple etc.) Syntax : map(fun, iter) Parameters : fun : It is a function to which map passes each element of given iterable.\n",
    "\n"
   ]
  },
  {
   "cell_type": "code",
   "execution_count": 11,
   "metadata": {
    "collapsed": true
   },
   "outputs": [],
   "source": [
    "#Example( Try running this below example for basic understanding of the map function:\n",
    "#r=[1,2,34,5,5,6,6]\n",
    "#result=list(map(lambda x: x**2,r))\n",
    "#result"
   ]
  },
  {
   "cell_type": "code",
   "execution_count": 12,
   "metadata": {
    "_cell_guid": "3d39cee3-66a5-1948-7ce3-2dc7450e5e22"
   },
   "outputs": [],
   "source": [
    "train['month'] = train['Event.Date'].map(lambda x: x.month)\n"
   ]
  },
  {
   "cell_type": "code",
   "execution_count": 13,
   "metadata": {},
   "outputs": [
    {
     "data": {
      "text/plain": [
       "0        12\n",
       "1        12\n",
       "2        12\n",
       "3        12\n",
       "4        12\n",
       "6        12\n",
       "8        12\n",
       "9        12\n",
       "10       12\n",
       "12       12\n",
       "13       11\n",
       "14       11\n",
       "15       11\n",
       "16       11\n",
       "18       11\n",
       "19       11\n",
       "20       11\n",
       "22       11\n",
       "23       11\n",
       "24       11\n",
       "25       11\n",
       "26       11\n",
       "27       11\n",
       "28       11\n",
       "30       11\n",
       "31       11\n",
       "33       11\n",
       "34       11\n",
       "35       11\n",
       "36       11\n",
       "         ..\n",
       "34761     2\n",
       "34775     2\n",
       "34776     2\n",
       "34803     2\n",
       "34886     1\n",
       "34902     1\n",
       "34947     1\n",
       "34969    12\n",
       "35125    11\n",
       "35318    10\n",
       "36046     7\n",
       "36344     6\n",
       "36345     6\n",
       "36409     5\n",
       "36576     5\n",
       "37046     2\n",
       "37229    12\n",
       "37434    11\n",
       "37767     9\n",
       "39942     9\n",
       "43892    11\n",
       "51271     9\n",
       "55812    10\n",
       "58066    12\n",
       "60534    12\n",
       "76425     9\n",
       "78973     1\n",
       "82041     3\n",
       "82629     9\n",
       "82632     8\n",
       "Name: month, Length: 28715, dtype: int64"
      ]
     },
     "execution_count": 13,
     "metadata": {},
     "output_type": "execute_result"
    }
   ],
   "source": [
    "#after this we will get month for each specific dates from Event.date\n",
    "train['month']"
   ]
  },
  {
   "cell_type": "code",
   "execution_count": 14,
   "metadata": {
    "_cell_guid": "e4eeb174-1027-1501-433a-e5b9d7e14406"
   },
   "outputs": [
    {
     "data": {
      "text/html": [
       "<div>\n",
       "<style>\n",
       "    .dataframe thead tr:only-child th {\n",
       "        text-align: right;\n",
       "    }\n",
       "\n",
       "    .dataframe thead th {\n",
       "        text-align: left;\n",
       "    }\n",
       "\n",
       "    .dataframe tbody tr th {\n",
       "        vertical-align: top;\n",
       "    }\n",
       "</style>\n",
       "<table border=\"1\" class=\"dataframe\">\n",
       "  <thead>\n",
       "    <tr style=\"text-align: right;\">\n",
       "      <th></th>\n",
       "      <th>Event.Id</th>\n",
       "      <th>Investigation.Type</th>\n",
       "      <th>Accident.Number</th>\n",
       "      <th>Event.Date</th>\n",
       "      <th>Location</th>\n",
       "      <th>Country</th>\n",
       "      <th>Latitude</th>\n",
       "      <th>Longitude</th>\n",
       "      <th>Airport.Code</th>\n",
       "      <th>Airport.Name</th>\n",
       "      <th>...</th>\n",
       "      <th>Air.Carrier</th>\n",
       "      <th>Total.Fatal.Injuries</th>\n",
       "      <th>Total.Serious.Injuries</th>\n",
       "      <th>Total.Minor.Injuries</th>\n",
       "      <th>Total.Uninjured</th>\n",
       "      <th>Weather.Condition</th>\n",
       "      <th>Broad.Phase.of.Flight</th>\n",
       "      <th>Report.Status</th>\n",
       "      <th>Publication.Date</th>\n",
       "      <th>month</th>\n",
       "    </tr>\n",
       "  </thead>\n",
       "  <tbody>\n",
       "    <tr>\n",
       "      <th>0</th>\n",
       "      <td>20181217X10943</td>\n",
       "      <td>Accident</td>\n",
       "      <td>GAA19CA098</td>\n",
       "      <td>2018-12-16</td>\n",
       "      <td>Grangville, ID</td>\n",
       "      <td>United States</td>\n",
       "      <td>45.583611</td>\n",
       "      <td>-115.681667</td>\n",
       "      <td>PVT</td>\n",
       "      <td>NaN</td>\n",
       "      <td>...</td>\n",
       "      <td>NaN</td>\n",
       "      <td>NaN</td>\n",
       "      <td>NaN</td>\n",
       "      <td>NaN</td>\n",
       "      <td>1.0</td>\n",
       "      <td>NaN</td>\n",
       "      <td>NaN</td>\n",
       "      <td>Preliminary</td>\n",
       "      <td>2018-12-18</td>\n",
       "      <td>12</td>\n",
       "    </tr>\n",
       "    <tr>\n",
       "      <th>1</th>\n",
       "      <td>20181217X25746</td>\n",
       "      <td>Accident</td>\n",
       "      <td>GAA19CA097</td>\n",
       "      <td>2018-12-15</td>\n",
       "      <td>MORIARTY, NM</td>\n",
       "      <td>United States</td>\n",
       "      <td>34.970000</td>\n",
       "      <td>-106.000000</td>\n",
       "      <td>NaN</td>\n",
       "      <td>MORIARTY MUNI</td>\n",
       "      <td>...</td>\n",
       "      <td>NaN</td>\n",
       "      <td>NaN</td>\n",
       "      <td>NaN</td>\n",
       "      <td>NaN</td>\n",
       "      <td>1.0</td>\n",
       "      <td>VMC</td>\n",
       "      <td>NaN</td>\n",
       "      <td>Preliminary</td>\n",
       "      <td>2018-12-20</td>\n",
       "      <td>12</td>\n",
       "    </tr>\n",
       "    <tr>\n",
       "      <th>2</th>\n",
       "      <td>20181213X41114</td>\n",
       "      <td>Accident</td>\n",
       "      <td>ERA19LA065</td>\n",
       "      <td>2018-12-13</td>\n",
       "      <td>Punta Gorda, FL</td>\n",
       "      <td>United States</td>\n",
       "      <td>26.925278</td>\n",
       "      <td>-82.001111</td>\n",
       "      <td>PGD</td>\n",
       "      <td>Punta Gorda</td>\n",
       "      <td>...</td>\n",
       "      <td>NaN</td>\n",
       "      <td>NaN</td>\n",
       "      <td>NaN</td>\n",
       "      <td>1.0</td>\n",
       "      <td>NaN</td>\n",
       "      <td>VMC</td>\n",
       "      <td>APPROACH</td>\n",
       "      <td>Preliminary</td>\n",
       "      <td>2018-12-21</td>\n",
       "      <td>12</td>\n",
       "    </tr>\n",
       "    <tr>\n",
       "      <th>3</th>\n",
       "      <td>20181213X45528</td>\n",
       "      <td>Accident</td>\n",
       "      <td>CEN19FA044</td>\n",
       "      <td>2018-12-13</td>\n",
       "      <td>Valparaiso, IN</td>\n",
       "      <td>United States</td>\n",
       "      <td>41.451667</td>\n",
       "      <td>-87.004444</td>\n",
       "      <td>VPZ</td>\n",
       "      <td>Porter County Rgnl</td>\n",
       "      <td>...</td>\n",
       "      <td>NaN</td>\n",
       "      <td>1.0</td>\n",
       "      <td>NaN</td>\n",
       "      <td>NaN</td>\n",
       "      <td>NaN</td>\n",
       "      <td>VMC</td>\n",
       "      <td>TAKEOFF</td>\n",
       "      <td>Preliminary</td>\n",
       "      <td>2018-12-19</td>\n",
       "      <td>12</td>\n",
       "    </tr>\n",
       "    <tr>\n",
       "      <th>4</th>\n",
       "      <td>20181214X90303</td>\n",
       "      <td>Accident</td>\n",
       "      <td>GAA19CA096</td>\n",
       "      <td>2018-12-11</td>\n",
       "      <td>Hartford, WI</td>\n",
       "      <td>United States</td>\n",
       "      <td>43.330278</td>\n",
       "      <td>-88.326111</td>\n",
       "      <td>HXF</td>\n",
       "      <td>Hartford Muni</td>\n",
       "      <td>...</td>\n",
       "      <td>NaN</td>\n",
       "      <td>NaN</td>\n",
       "      <td>NaN</td>\n",
       "      <td>NaN</td>\n",
       "      <td>1.0</td>\n",
       "      <td>VMC</td>\n",
       "      <td>NaN</td>\n",
       "      <td>Preliminary</td>\n",
       "      <td>2018-12-18</td>\n",
       "      <td>12</td>\n",
       "    </tr>\n",
       "  </tbody>\n",
       "</table>\n",
       "<p>5 rows × 32 columns</p>\n",
       "</div>"
      ],
      "text/plain": [
       "         Event.Id Investigation.Type Accident.Number Event.Date  \\\n",
       "0  20181217X10943           Accident      GAA19CA098 2018-12-16   \n",
       "1  20181217X25746           Accident      GAA19CA097 2018-12-15   \n",
       "2  20181213X41114           Accident      ERA19LA065 2018-12-13   \n",
       "3  20181213X45528           Accident      CEN19FA044 2018-12-13   \n",
       "4  20181214X90303           Accident      GAA19CA096 2018-12-11   \n",
       "\n",
       "          Location        Country   Latitude   Longitude Airport.Code  \\\n",
       "0   Grangville, ID  United States  45.583611 -115.681667          PVT   \n",
       "1     MORIARTY, NM  United States  34.970000 -106.000000          NaN   \n",
       "2  Punta Gorda, FL  United States  26.925278  -82.001111          PGD   \n",
       "3   Valparaiso, IN  United States  41.451667  -87.004444          VPZ   \n",
       "4     Hartford, WI  United States  43.330278  -88.326111          HXF   \n",
       "\n",
       "         Airport.Name  ...  Air.Carrier Total.Fatal.Injuries  \\\n",
       "0                 NaN  ...          NaN                  NaN   \n",
       "1       MORIARTY MUNI  ...          NaN                  NaN   \n",
       "2         Punta Gorda  ...          NaN                  NaN   \n",
       "3  Porter County Rgnl  ...          NaN                  1.0   \n",
       "4       Hartford Muni  ...          NaN                  NaN   \n",
       "\n",
       "  Total.Serious.Injuries Total.Minor.Injuries Total.Uninjured  \\\n",
       "0                    NaN                  NaN             1.0   \n",
       "1                    NaN                  NaN             1.0   \n",
       "2                    NaN                  1.0             NaN   \n",
       "3                    NaN                  NaN             NaN   \n",
       "4                    NaN                  NaN             1.0   \n",
       "\n",
       "  Weather.Condition Broad.Phase.of.Flight  Report.Status Publication.Date  \\\n",
       "0               NaN                   NaN    Preliminary       2018-12-18   \n",
       "1               VMC                   NaN    Preliminary       2018-12-20   \n",
       "2               VMC              APPROACH    Preliminary       2018-12-21   \n",
       "3               VMC               TAKEOFF    Preliminary       2018-12-19   \n",
       "4               VMC                   NaN    Preliminary       2018-12-18   \n",
       "\n",
       "  month  \n",
       "0    12  \n",
       "1    12  \n",
       "2    12  \n",
       "3    12  \n",
       "4    12  \n",
       "\n",
       "[5 rows x 32 columns]"
      ]
     },
     "execution_count": 14,
     "metadata": {},
     "output_type": "execute_result"
    }
   ],
   "source": [
    "train.head()"
   ]
  },
  {
   "cell_type": "code",
   "execution_count": 15,
   "metadata": {
    "_cell_guid": "a81a4ceb-2a9a-1409-8427-090d5357cd37"
   },
   "outputs": [
    {
     "name": "stdout",
     "output_type": "stream",
     "text": [
      "7     3487\n",
      "8     3230\n",
      "6     3192\n",
      "5     2760\n",
      "9     2748\n",
      "10    2327\n",
      "4     2320\n",
      "3     2088\n",
      "11    1787\n",
      "12    1614\n",
      "2     1603\n",
      "1     1559\n",
      "Name: month, dtype: int64\n"
     ]
    },
    {
     "data": {
      "text/plain": [
       "<matplotlib.axes._subplots.AxesSubplot at 0x10f4aa160>"
      ]
     },
     "execution_count": 15,
     "metadata": {},
     "output_type": "execute_result"
    },
    {
     "data": {
      "image/png": "[encoded data removed]",
      "text/plain": [
       "<matplotlib.figure.Figure at 0x10f4ae780>"
      ]
     },
     "metadata": {},
     "output_type": "display_data"
    }
   ],
   "source": [
    "##plotting the bar chart\n",
    "fig, axes = plt.subplots(nrows=2, ncols=1,figsize=(8, 8))\n",
    "fig.subplots_adjust(hspace=0.8)\n",
    "total_month = train['month'].value_counts()\n",
    "print(total_month)\n",
    "train['month'].value_counts().sort_index().plot(ax=axes[0], kind='bar', title='month-wise accidents')\n"
   ]
  },
  {
   "cell_type": "code",
   "execution_count": 16,
   "metadata": {},
   "outputs": [
    {
     "data": {
      "text/plain": [
       "0                         Cessna\n",
       "1                         Cessna\n",
       "2        CZECH SPORT AIRCRAFT AS\n",
       "3                          Piper\n",
       "4                          Beech\n",
       "6                         Zenair\n",
       "8                         Cessna\n",
       "9                        Lancair\n",
       "10                        Cessna\n",
       "12                        Cessna\n",
       "13                        Cessna\n",
       "14                        Cessna\n",
       "15                        Cessna\n",
       "16                        Cessna\n",
       "18                        Cirrus\n",
       "19                         Piper\n",
       "20                          BELL\n",
       "22                         Piper\n",
       "23                        Cessna\n",
       "24                       Pilatus\n",
       "25                   Air Tractor\n",
       "26                         Piper\n",
       "27             Darren M. Vinelli\n",
       "28                        CESSNA\n",
       "30                        Mooney\n",
       "31                         Beech\n",
       "33                        Cessna\n",
       "34                        Cirrus\n",
       "35                      Champion\n",
       "36                        Cessna\n",
       "                  ...           \n",
       "34761                      AYRES\n",
       "34775                      Piper\n",
       "34776                     Cessna\n",
       "34803                      Beech\n",
       "34886                 Mitsubishi\n",
       "34902                       Bell\n",
       "34947                   Rotorway\n",
       "34969               Aerospatiale\n",
       "35125                       Bell\n",
       "35318                     Cessna\n",
       "36046              Schempp-Hirth\n",
       "36344                     Boeing\n",
       "36345                     Boeing\n",
       "36409                     Cessna\n",
       "36576                      Piper\n",
       "37046          McDonnell Douglas\n",
       "37229                    Learjet\n",
       "37434                      Piper\n",
       "37767                     Boeing\n",
       "39942                      Piper\n",
       "43892                     Cessna\n",
       "51271                   ROBINSON\n",
       "55812       Gulfstream Aerospace\n",
       "58066                      Piper\n",
       "60534                     BOEING\n",
       "76425                     Cessna\n",
       "78973                   Bellanca\n",
       "82041                      Beech\n",
       "82629          MCDONNELL DOUGLAS\n",
       "82632                     Cessna\n",
       "Name: Make, Length: 28715, dtype: object"
      ]
     },
     "execution_count": 16,
     "metadata": {},
     "output_type": "execute_result"
    }
   ],
   "source": [
    "train.Make"
   ]
  },
  {
   "cell_type": "markdown",
   "metadata": {},
   "source": [
    "AS you can observe after seeing these values the characters are not uniform with uppercase and lowercase letters.\n",
    "Hence,we need to get them into lower cases/upper casses and get rid of white spaces between them."
   ]
  },
  {
   "cell_type": "code",
   "execution_count": 17,
   "metadata": {
    "collapsed": true
   },
   "outputs": [],
   "source": [
    "train['cleaned.make'] = train['Make'].map(lambda x: \"{}\".format(x).lower().strip())\n",
    "#strip() fucntion will remove the white spaces."
   ]
  },
  {
   "cell_type": "markdown",
   "metadata": {},
   "source": [
    "# Data Visualization"
   ]
  },
  {
   "cell_type": "code",
   "execution_count": null,
   "metadata": {
    "_cell_guid": "303f759e-ad1f-3832-1fe2-f78f4fb1dc6a"
   },
   "outputs": [
    {
     "data": {
      "text/plain": [
       "<matplotlib.axes._subplots.AxesSubplot at 0x10fcb9390>"
      ]
     },
     "execution_count": 18,
     "metadata": {},
     "output_type": "execute_result"
    },
    {
     "data": {
      "image/png": "[encoded data removed]",
      "text/plain": [
       "<matplotlib.figure.Figure at 0x10fc89e48>"
      ]
     },
     "metadata": {},
     "output_type": "display_data"
    }
   ],
   "source": [
    "fig, axes = plt.subplots(nrows=2, ncols=2,figsize=(15, 15))\n",
    "fig.subplots_adjust(hspace=0.6)\n",
    "colors = ['#99cc33', '#a333cc', '#333dcc']\n",
    "train['Broad.Phase.of.Flight'].value_counts().plot(ax=axes[0,0], kind='bar', title='Phase of Flight')\n",
    "train['Weather.Condition'].value_counts().plot(ax=axes[1,0], kind='pie', colors=colors, title='Weather Condition')\n",
    "train['Broad.Phase.of.Flight'].value_counts().plot(ax=axes[0,1], kind='pie', title='Phase of Flight')\n",
    "##go through the code step by step to understand the concept of presenatation\n"
   ]
  },
  {
   "cell_type": "markdown",
   "metadata": {},
   "source": [
    "# You will need to import Basemap on your system to use the further code"
   ]
  },
  {
   "cell_type": "code",
   "execution_count": null,
   "metadata": {},
   "outputs": [
    {
     "name": "stdout",
     "output_type": "stream",
     "text": [
      "Solving environment: done\n",
      "\n",
      "\n",
      "==> WARNING: A newer version of conda exists. <==\n",
      "  current version: 4.4.7\n",
      "  latest version: 4.6.14\n",
      "\n",
      "Please update conda by running\n",
      "\n",
      "    $ conda update -n base conda\n",
      "\n",
      "\n",
      "\n",
      "## Package Plan ##\n",
      "\n",
      "  environment location: /Users/swapnilgharat/anaconda3\n",
      "\n",
      "  added / updated specs: \n",
      "    - basemap\n",
      "\n",
      "\n",
      "The following packages will be downloaded:\n",
      "\n",
      "    package                    |            build\n",
      "    ---------------------------|-----------------\n",
      "    basemap-1.2.0              |   py36h0acbc05_0        15.1 MB\n",
      "    geos-3.6.2                 |       h5470d99_2         1.4 MB\n",
      "    matplotlib-2.1.2           |   py36h6d6146d_0         6.7 MB\n",
      "    openssl-1.0.2s             |       h1de35cc_0         3.0 MB\n",
      "    ca-certificates-2019.5.15  |                0         133 KB\n",
      "    blas-1.0                   |              mkl           5 KB\n",
      "    certifi-2019.3.9           |           py36_0         155 KB\n",
      "    pyproj-1.9.6               |   py36h9c430a6_0          66 KB\n",
      "    proj4-5.2.0                |       h0a44026_1         6.9 MB\n",
      "    numpy-1.14.2               |   py36ha9ae307_0         3.9 MB\n",
      "    pyshp-2.1.0                |             py_0          34 KB\n",
      "    ------------------------------------------------------------\n",
      "                                           Total:        37.4 MB\n",
      "\n",
      "The following NEW packages will be INSTALLED:\n",
      "\n",
      "    basemap:         1.2.0-py36h0acbc05_0 \n",
      "    blas:            1.0-mkl              \n",
      "    geos:            3.6.2-h5470d99_2     \n",
      "    proj4:           5.2.0-h0a44026_1     \n",
      "    pyproj:          1.9.6-py36h9c430a6_0 \n",
      "    pyshp:           2.1.0-py_0           \n",
      "\n",
      "The following packages will be UPDATED:\n",
      "\n",
      "    ca-certificates: 2018.03.07-0          --> 2019.5.15-0          \n",
      "    certifi:         2018.8.24-py36_1      --> 2019.3.9-py36_0      \n",
      "    matplotlib:      2.1.0-py36h5068139_0  --> 2.1.2-py36h6d6146d_0 \n",
      "    numpy:           1.13.3-py36h2cdce51_0 --> 1.14.2-py36ha9ae307_0\n",
      "    openssl:         1.0.2p-h1de35cc_0     --> 1.0.2s-h1de35cc_0    \n",
      "\n",
      "Proceed ([y]/n)? "
     ]
    }
   ],
   "source": [
    "\n",
    "from bokeh.io import show\n",
    "from bokeh.sampledata import us_states\n",
    "from bokeh.plotting import figure\n",
    "##intalling basemap\n",
    "!conda install basemap\n",
    "from mpl_toolkits.basemap import Basemap\n",
    "import matplotlib.pyplot as plt"
   ]
  },
  {
   "cell_type": "code",
   "execution_count": null,
   "metadata": {
    "collapsed": true
   },
   "outputs": [],
   "source": [
    "y"
   ]
  },
  {
   "cell_type": "code",
   "execution_count": null,
   "metadata": {
    "_cell_guid": "90ac7545-231a-f7a1-fc37-d5e8065ddaa4"
   },
   "outputs": [],
   "source": [
    "fig = plt.figure()\n",
    "ax = fig.add_axes([0.1,0.1,0.8,0.8])\n",
    "north, south, east, west = 71.39, 24.52, -66.95, 172.5\n",
    "#m = Basemap(\n",
    "#    projection='lcc',\n",
    "#    llcrnrlat=south,\n",
    "#    urcrnrlat=north,\n",
    "#    llcrnrlon=west,\n",
    "#    urcrnrlon=east,\n",
    "#    lat_1=33,\n",
    "#    lat_2=45,\n",
    "#    lon_0=-95,\n",
    "#    resolution='l')\n",
    "m = Basemap(llcrnrlon=-145.5,llcrnrlat=1.0,urcrnrlon=-2.566,urcrnrlat=46.352,\n",
    "            rsphere=(6378137.00,6356752.3142),\n",
    "            resolution='l',area_thresh=1000.0,projection='lcc',\n",
    "            lat_1=50.0,lon_0=-107.0,ax=ax)\n",
    "x, y = m(train['Longitude'].values, train['Latitude'].values)\n",
    "m.drawcoastlines()\n",
    "m.drawcountries()\n",
    "m.hexbin(x, y, gridsize=1000, bins='log', cmap=cm.YlOrRd)"
   ]
  },
  {
   "cell_type": "markdown",
   "metadata": {},
   "source": [
    "# Using Kmeans-Clustering"
   ]
  },
  {
   "cell_type": "code",
   "execution_count": null,
   "metadata": {
    "_cell_guid": "ab33d212-3ae6-9f26-172a-6c9b5bdc4c48"
   },
   "outputs": [],
   "source": [
    "latlon = train[['Longitude', 'Latitude']]\n",
    "latlon.head()\n"
   ]
  },
  {
   "cell_type": "code",
   "execution_count": null,
   "metadata": {
    "_cell_guid": "53b99b1d-7436-19f7-0c7e-ce4eb6b7911f"
   },
   "outputs": [],
   "source": [
    "kmeans = KMeans(n_clusters=50)\n",
    "kmodel = kmeans.fit(latlon)\n",
    "centroids = kmodel.cluster_centers_"
   ]
  },
  {
   "cell_type": "code",
   "execution_count": null,
   "metadata": {
    "_cell_guid": "e4ddaaaa-bdbc-7fca-9b73-e7ff69b15b05"
   },
   "outputs": [],
   "source": [
    "centroids\n",
    "lons, lats = zip(*centroids)\n",
    "print(lats)\n",
    "print(lons)"
   ]
  },
  {
   "cell_type": "code",
   "execution_count": null,
   "metadata": {
    "_cell_guid": "5de6d560-7b19-6af5-cfd7-d97edf0021d3"
   },
   "outputs": [],
   "source": [
    "fig = plt.figure()\n",
    "ax = fig.add_axes([0.1,0.1,0.8,0.8])\n",
    "north, south, east, west = 71.39, 24.52, -66.95, 172.5\n",
    "m = Basemap(llcrnrlon=-145.5,llcrnrlat=1.0,urcrnrlon=-2.566,urcrnrlat=46.352,\n",
    "            rsphere=(6378137.00,6356752.3142),\n",
    "            resolution='l',area_thresh=1000.0,projection='lcc',\n",
    "            lat_1=50.0,lon_0=-107.0,ax=ax)\n",
    "x, y = m(train['Longitude'].values, train['Latitude'].values)\n",
    "m.drawcoastlines()\n",
    "m.drawcountries()\n",
    "m.hexbin(x, y, gridsize=1000, bins='log', cmap=cm.YlOrRd)\n",
    "cx, cy = m(lons, lats)\n",
    "m.scatter(cx, cy, 3, color='g')"
   ]
  },
  {
   "cell_type": "markdown",
   "metadata": {
    "_cell_guid": "90fa221e-039d-d6ca-0071-330a72dff14e"
   },
   "source": [
    "Let's riff on this map a bit more (still going to be population-centric, but there's some interesting stuff happening in Alaska)"
   ]
  },
  {
   "cell_type": "code",
   "execution_count": null,
   "metadata": {
    "_cell_guid": "f13b3d6d-df28-81f0-d68b-affeac1601df"
   },
   "outputs": [],
   "source": [
    "from bokeh.sampledata import us_states\n",
    "us_states = us_states.data.copy()\n",
    "state_xs = [us_states[code][\"lons\"] for code in us_states]\n",
    "state_ys = [us_states[code][\"lats\"] for code in us_states]\n",
    "p = figure(title=\"Aviation Incidents and Centroids\", \n",
    "           toolbar_location=\"left\", plot_width=1100, plot_height=700)\n",
    "p.patches(state_xs, state_ys, fill_alpha=0.0,\n",
    "    line_color=\"#884444\", line_width=1.5)\n",
    "p.circle(train['Longitude'].data, train['Latitude'].data, size=8, color='navy', alpha=1)\n",
    "p.circle(lons, lats, size=8, color='navy', alpha=1)\n",
    "show(p)"
   ]
  },
  {
   "cell_type": "code",
   "execution_count": null,
   "metadata": {
    "collapsed": true
   },
   "outputs": [],
   "source": []
  }
 ],
 "metadata": {
  "_change_revision": 0,
  "_is_fork": false,
  "kernelspec": {
   "display_name": "Python 3",
   "language": "python",
   "name": "python3"
  },
  "language_info": {
   "codemirror_mode": {
    "name": "ipython",
    "version": 3
   },
   "file_extension": ".py",
   "mimetype": "text/x-python",
   "name": "python",
   "nbconvert_exporter": "python",
   "pygments_lexer": "ipython3",
   "version": "3.6.3"
  }
 },
 "nbformat": 4,
 "nbformat_minor": 1
}
